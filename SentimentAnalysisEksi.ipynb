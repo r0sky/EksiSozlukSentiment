{
 "cells": [
  {
   "cell_type": "code",
   "execution_count": 1508,
   "metadata": {},
   "outputs": [
    {
     "name": "stdout",
     "output_type": "stream",
     "text": [
      "Dimensions of train: (1497, 2)\n"
     ]
    }
   ],
   "source": [
    "import pandas as pd\n",
    "import numpy as np\n",
    "import urllib.request\n",
    "\n",
    "train = pd.read_csv(\"https://raw.githubusercontent.com/r0sky/EksiSozlukSentiment/master/VladimirPutinEntries.csv\")\n",
    "\n",
    "print(\"Dimensions of train: {}\".format(train.shape))"
   ]
  },
  {
   "cell_type": "code",
   "execution_count": 1509,
   "metadata": {},
   "outputs": [
    {
     "data": {
      "text/html": [
       "<div>\n",
       "<style scoped>\n",
       "    .dataframe tbody tr th:only-of-type {\n",
       "        vertical-align: middle;\n",
       "    }\n",
       "\n",
       "    .dataframe tbody tr th {\n",
       "        vertical-align: top;\n",
       "    }\n",
       "\n",
       "    .dataframe thead th {\n",
       "        text-align: right;\n",
       "    }\n",
       "</style>\n",
       "<table border=\"1\" class=\"dataframe\">\n",
       "  <thead>\n",
       "    <tr style=\"text-align: right;\">\n",
       "      <th></th>\n",
       "      <th>yorum</th>\n",
       "      <th>puan</th>\n",
       "    </tr>\n",
       "  </thead>\n",
       "  <tbody>\n",
       "    <tr>\n",
       "      <th>0</th>\n",
       "      <td>sıradan insanın gidebileceği en yüksek noktaya...</td>\n",
       "      <td>2</td>\n",
       "    </tr>\n",
       "    <tr>\n",
       "      <th>1</th>\n",
       "      <td>yeltsin'densonragorevi devralanrusdevletbaskani.</td>\n",
       "      <td>3</td>\n",
       "    </tr>\n",
       "    <tr>\n",
       "      <th>2</th>\n",
       "      <td>devlet başkanıboris yeltsin'in 31 aralık 1999'...</td>\n",
       "      <td>3</td>\n",
       "    </tr>\n",
       "    <tr>\n",
       "      <th>3</th>\n",
       "      <td>eski kgb ajanı olduğu için rusyayı natoya sokm...</td>\n",
       "      <td>3</td>\n",
       "    </tr>\n",
       "    <tr>\n",
       "      <th>4</th>\n",
       "      <td>anlamındaki ilginçlik bakımından (bkz:putin)..</td>\n",
       "      <td>3</td>\n",
       "    </tr>\n",
       "    <tr>\n",
       "      <th>5</th>\n",
       "      <td>devlet başkanlarının arasında en karizmatik gö...</td>\n",
       "      <td>4</td>\n",
       "    </tr>\n",
       "    <tr>\n",
       "      <th>6</th>\n",
       "      <td>başbakan erdoğan'nı doğum gününde arayıp yeni ...</td>\n",
       "      <td>4</td>\n",
       "    </tr>\n",
       "    <tr>\n",
       "      <th>7</th>\n",
       "      <td>(bkz:vladimir harkonnen), (bkz:serbest cagrisim)</td>\n",
       "      <td>3</td>\n",
       "    </tr>\n",
       "    <tr>\n",
       "      <th>8</th>\n",
       "      <td>siyah kusakjudocudur kendisi.*</td>\n",
       "      <td>3</td>\n",
       "    </tr>\n",
       "    <tr>\n",
       "      <th>9</th>\n",
       "      <td>kendi tabiriyle, kendini hukugun diktatorlugun...</td>\n",
       "      <td>2</td>\n",
       "    </tr>\n",
       "  </tbody>\n",
       "</table>\n",
       "</div>"
      ],
      "text/plain": [
       "                                               yorum  puan\n",
       "0  sıradan insanın gidebileceği en yüksek noktaya...     2\n",
       "1  yeltsin'densonragorevi devralanrusdevletbaskani.      3\n",
       "2  devlet başkanıboris yeltsin'in 31 aralık 1999'...     3\n",
       "3  eski kgb ajanı olduğu için rusyayı natoya sokm...     3\n",
       "4    anlamındaki ilginçlik bakımından (bkz:putin)..      3\n",
       "5  devlet başkanlarının arasında en karizmatik gö...     4\n",
       "6  başbakan erdoğan'nı doğum gününde arayıp yeni ...     4\n",
       "7  (bkz:vladimir harkonnen), (bkz:serbest cagrisim)      3\n",
       "8                    siyah kusakjudocudur kendisi.*      3\n",
       "9  kendi tabiriyle, kendini hukugun diktatorlugun...     2"
      ]
     },
     "execution_count": 1509,
     "metadata": {},
     "output_type": "execute_result"
    }
   ],
   "source": [
    "train.head(10)"
   ]
  },
  {
   "cell_type": "code",
   "execution_count": 1510,
   "metadata": {},
   "outputs": [
    {
     "data": {
      "text/plain": [
       "Index(['yorum', 'puan'], dtype='object')"
      ]
     },
     "execution_count": 1510,
     "metadata": {},
     "output_type": "execute_result"
    }
   ],
   "source": [
    "train.columns"
   ]
  },
  {
   "cell_type": "code",
   "execution_count": 1511,
   "metadata": {},
   "outputs": [
    {
     "data": {
      "text/html": [
       "<div>\n",
       "<style scoped>\n",
       "    .dataframe tbody tr th:only-of-type {\n",
       "        vertical-align: middle;\n",
       "    }\n",
       "\n",
       "    .dataframe tbody tr th {\n",
       "        vertical-align: top;\n",
       "    }\n",
       "\n",
       "    .dataframe thead th {\n",
       "        text-align: right;\n",
       "    }\n",
       "</style>\n",
       "<table border=\"1\" class=\"dataframe\">\n",
       "  <thead>\n",
       "    <tr style=\"text-align: right;\">\n",
       "      <th></th>\n",
       "      <th>puan</th>\n",
       "    </tr>\n",
       "  </thead>\n",
       "  <tbody>\n",
       "    <tr>\n",
       "      <th>count</th>\n",
       "      <td>1497.000000</td>\n",
       "    </tr>\n",
       "    <tr>\n",
       "      <th>mean</th>\n",
       "      <td>3.004676</td>\n",
       "    </tr>\n",
       "    <tr>\n",
       "      <th>std</th>\n",
       "      <td>0.941812</td>\n",
       "    </tr>\n",
       "    <tr>\n",
       "      <th>min</th>\n",
       "      <td>1.000000</td>\n",
       "    </tr>\n",
       "    <tr>\n",
       "      <th>25%</th>\n",
       "      <td>3.000000</td>\n",
       "    </tr>\n",
       "    <tr>\n",
       "      <th>50%</th>\n",
       "      <td>3.000000</td>\n",
       "    </tr>\n",
       "    <tr>\n",
       "      <th>75%</th>\n",
       "      <td>3.000000</td>\n",
       "    </tr>\n",
       "    <tr>\n",
       "      <th>max</th>\n",
       "      <td>5.000000</td>\n",
       "    </tr>\n",
       "  </tbody>\n",
       "</table>\n",
       "</div>"
      ],
      "text/plain": [
       "              puan\n",
       "count  1497.000000\n",
       "mean      3.004676\n",
       "std       0.941812\n",
       "min       1.000000\n",
       "25%       3.000000\n",
       "50%       3.000000\n",
       "75%       3.000000\n",
       "max       5.000000"
      ]
     },
     "execution_count": 1511,
     "metadata": {},
     "output_type": "execute_result"
    }
   ],
   "source": [
    "train.describe()"
   ]
  },
  {
   "cell_type": "code",
   "execution_count": 1512,
   "metadata": {},
   "outputs": [
    {
     "data": {
      "text/html": [
       "<div>\n",
       "<style scoped>\n",
       "    .dataframe tbody tr th:only-of-type {\n",
       "        vertical-align: middle;\n",
       "    }\n",
       "\n",
       "    .dataframe tbody tr th {\n",
       "        vertical-align: top;\n",
       "    }\n",
       "\n",
       "    .dataframe thead th {\n",
       "        text-align: right;\n",
       "    }\n",
       "</style>\n",
       "<table border=\"1\" class=\"dataframe\">\n",
       "  <thead>\n",
       "    <tr style=\"text-align: right;\">\n",
       "      <th></th>\n",
       "      <th>yorum</th>\n",
       "      <th>puan</th>\n",
       "    </tr>\n",
       "  </thead>\n",
       "  <tbody>\n",
       "    <tr>\n",
       "      <th>19</th>\n",
       "      <td>geçtiğimiz on yılda, onun üçte biri seviyesind...</td>\n",
       "      <td>5</td>\n",
       "    </tr>\n",
       "    <tr>\n",
       "      <th>23</th>\n",
       "      <td>karizmatik ve kararlı bir kişilik,ayrıca türk ...</td>\n",
       "      <td>5</td>\n",
       "    </tr>\n",
       "    <tr>\n",
       "      <th>56</th>\n",
       "      <td>halefi olarak gosterilendmitri medvedevin devl...</td>\n",
       "      <td>5</td>\n",
       "    </tr>\n",
       "    <tr>\n",
       "      <th>57</th>\n",
       "      <td>yilin adami secilmis olmasini gayet hakli buld...</td>\n",
       "      <td>5</td>\n",
       "    </tr>\n",
       "    <tr>\n",
       "      <th>59</th>\n",
       "      <td>gerçekçi anlamda, tam bir devlet adamı olarak ...</td>\n",
       "      <td>5</td>\n",
       "    </tr>\n",
       "    <tr>\n",
       "      <th>131</th>\n",
       "      <td>tarih boyu süregelmiş, büyük devletlerin dağıl...</td>\n",
       "      <td>5</td>\n",
       "    </tr>\n",
       "    <tr>\n",
       "      <th>132</th>\n",
       "      <td>dunyadaki hicbir liderin yapamayacagi cikislar...</td>\n",
       "      <td>5</td>\n",
       "    </tr>\n",
       "    <tr>\n",
       "      <th>161</th>\n",
       "      <td>eski yozgat milletvekili. inanılmaz yetenekli ...</td>\n",
       "      <td>5</td>\n",
       "    </tr>\n",
       "    <tr>\n",
       "      <th>181</th>\n",
       "      <td>rahat adam.motorla tura çıkmış gözzüm benim.se...</td>\n",
       "      <td>5</td>\n",
       "    </tr>\n",
       "    <tr>\n",
       "      <th>186</th>\n",
       "      <td>yapabileceklerinin siniri olmayan dahi..http:/...</td>\n",
       "      <td>5</td>\n",
       "    </tr>\n",
       "    <tr>\n",
       "      <th>189</th>\n",
       "      <td>dosta guven dusmana korku sozunun vucut buldug...</td>\n",
       "      <td>5</td>\n",
       "    </tr>\n",
       "    <tr>\n",
       "      <th>198</th>\n",
       "      <td>cok seksi bir adam olmasinin yanisira*cok basa...</td>\n",
       "      <td>5</td>\n",
       "    </tr>\n",
       "    <tr>\n",
       "      <th>204</th>\n",
       "      <td>dünyanın engüçlü insanı.</td>\n",
       "      <td>5</td>\n",
       "    </tr>\n",
       "    <tr>\n",
       "      <th>221</th>\n",
       "      <td>büyük petro ve lenin'den sonra rusya'nın başın...</td>\n",
       "      <td>5</td>\n",
       "    </tr>\n",
       "    <tr>\n",
       "      <th>235</th>\n",
       "      <td>hani yönetimini ve kendisini seven de eleştire...</td>\n",
       "      <td>5</td>\n",
       "    </tr>\n",
       "    <tr>\n",
       "      <th>305</th>\n",
       "      <td>bu adam var ya, dünyanın açık ara en karizmati...</td>\n",
       "      <td>5</td>\n",
       "    </tr>\n",
       "    <tr>\n",
       "      <th>313</th>\n",
       "      <td>çıkarmış masaya vurmuş yine.</td>\n",
       "      <td>5</td>\n",
       "    </tr>\n",
       "    <tr>\n",
       "      <th>322</th>\n",
       "      <td>buna basbakan ol demisler bu gitmis dunya lide...</td>\n",
       "      <td>5</td>\n",
       "    </tr>\n",
       "    <tr>\n",
       "      <th>346</th>\n",
       "      <td>gerçek bir devlet başkanı. bizdeki tüm meslekt...</td>\n",
       "      <td>5</td>\n",
       "    </tr>\n",
       "    <tr>\n",
       "      <th>359</th>\n",
       "      <td>karizmasıyla, laf sokuşuyla, siklemezliğiyle, ...</td>\n",
       "      <td>5</td>\n",
       "    </tr>\n",
       "    <tr>\n",
       "      <th>379</th>\n",
       "      <td>(bkz:rusya teroristlerle anlaşmaz onları yok e...</td>\n",
       "      <td>5</td>\n",
       "    </tr>\n",
       "    <tr>\n",
       "      <th>383</th>\n",
       "      <td>tam birwinner...</td>\n",
       "      <td>5</td>\n",
       "    </tr>\n",
       "    <tr>\n",
       "      <th>412</th>\n",
       "      <td>(bkz:reyiz)</td>\n",
       "      <td>5</td>\n",
       "    </tr>\n",
       "    <tr>\n",
       "      <th>427</th>\n",
       "      <td>dünya lideri olarak herkesin yırtık dondan çık...</td>\n",
       "      <td>5</td>\n",
       "    </tr>\n",
       "    <tr>\n",
       "      <th>434</th>\n",
       "      <td>söylenenlere göre putin taşak olarak doğmuş, k...</td>\n",
       "      <td>5</td>\n",
       "    </tr>\n",
       "    <tr>\n",
       "      <th>447</th>\n",
       "      <td>üniversitede \"en iyi yönetim biçimi başında iy...</td>\n",
       "      <td>5</td>\n",
       "    </tr>\n",
       "    <tr>\n",
       "      <th>506</th>\n",
       "      <td>taşakları çok ağır olduğu için gemiye bindiril...</td>\n",
       "      <td>5</td>\n",
       "    </tr>\n",
       "    <tr>\n",
       "      <th>554</th>\n",
       "      <td>forbes'e göre dünyanın en güçlü insanıdır.</td>\n",
       "      <td>5</td>\n",
       "    </tr>\n",
       "    <tr>\n",
       "      <th>564</th>\n",
       "      <td>rusya topraklarina fazla, ultra-zeki lider. sa...</td>\n",
       "      <td>5</td>\n",
       "    </tr>\n",
       "    <tr>\n",
       "      <th>618</th>\n",
       "      <td>umarım başına birşey gelmemiştir, henüz çok ge...</td>\n",
       "      <td>5</td>\n",
       "    </tr>\n",
       "    <tr>\n",
       "      <th>...</th>\n",
       "      <td>...</td>\n",
       "      <td>...</td>\n",
       "    </tr>\n",
       "    <tr>\n",
       "      <th>1350</th>\n",
       "      <td>on parmağında on marifet olan dünya lideri.gif</td>\n",
       "      <td>5</td>\n",
       "    </tr>\n",
       "    <tr>\n",
       "      <th>1357</th>\n",
       "      <td>brexit oylaması hakkında tek mantıklı açıklama...</td>\n",
       "      <td>5</td>\n",
       "    </tr>\n",
       "    <tr>\n",
       "      <th>1360</th>\n",
       "      <td>günümüzün en büyük lideri</td>\n",
       "      <td>5</td>\n",
       "    </tr>\n",
       "    <tr>\n",
       "      <th>1362</th>\n",
       "      <td>bazıların çok sevdiği, bayıldığı 'dünya lideri...</td>\n",
       "      <td>5</td>\n",
       "    </tr>\n",
       "    <tr>\n",
       "      <th>1368</th>\n",
       "      <td>bizimkiyle arasındaki temel farklardan birisi,...</td>\n",
       "      <td>5</td>\n",
       "    </tr>\n",
       "    <tr>\n",
       "      <th>1370</th>\n",
       "      <td>\"bana bir tane abd kölesi olmayan islam ülkesi...</td>\n",
       "      <td>5</td>\n",
       "    </tr>\n",
       "    <tr>\n",
       "      <th>1374</th>\n",
       "      <td>çok zeki bir insandır.</td>\n",
       "      <td>5</td>\n",
       "    </tr>\n",
       "    <tr>\n",
       "      <th>1375</th>\n",
       "      <td>çok tekin bir insandır.</td>\n",
       "      <td>5</td>\n",
       "    </tr>\n",
       "    <tr>\n",
       "      <th>1378</th>\n",
       "      <td>tek başınarusya’nın en büyük markasıdır.https:...</td>\n",
       "      <td>5</td>\n",
       "    </tr>\n",
       "    <tr>\n",
       "      <th>1382</th>\n",
       "      <td>yav bak işte bu insan ata binmeyi bilir. hem d...</td>\n",
       "      <td>5</td>\n",
       "    </tr>\n",
       "    <tr>\n",
       "      <th>1398</th>\n",
       "      <td>venezueladevleti tarafındanhugo chavezanısına ...</td>\n",
       "      <td>5</td>\n",
       "    </tr>\n",
       "    <tr>\n",
       "      <th>1399</th>\n",
       "      <td>türkiye'nin tek ve gerçek dostu rusya'nın devl...</td>\n",
       "      <td>5</td>\n",
       "    </tr>\n",
       "    <tr>\n",
       "      <th>1405</th>\n",
       "      <td>devlet adamıdır. sevin sevmeyin bu adamın gerç...</td>\n",
       "      <td>5</td>\n",
       "    </tr>\n",
       "    <tr>\n",
       "      <th>1406</th>\n",
       "      <td>tam bir sosyopat. yahu adam bir sene yememiş i...</td>\n",
       "      <td>5</td>\n",
       "    </tr>\n",
       "    <tr>\n",
       "      <th>1419</th>\n",
       "      <td>bütün dünyanın liderlik öğrenmesi gereken lide...</td>\n",
       "      <td>5</td>\n",
       "    </tr>\n",
       "    <tr>\n",
       "      <th>1420</th>\n",
       "      <td>sarı adam1bildiğimiz sarı ruslardanince adam2k...</td>\n",
       "      <td>5</td>\n",
       "    </tr>\n",
       "    <tr>\n",
       "      <th>1428</th>\n",
       "      <td>3 kulvarda abd'ye karşı savaş vermektedir. sur...</td>\n",
       "      <td>5</td>\n",
       "    </tr>\n",
       "    <tr>\n",
       "      <th>1457</th>\n",
       "      <td>ilk defa istihbarat kökenli bir devlet başkanı...</td>\n",
       "      <td>5</td>\n",
       "    </tr>\n",
       "    <tr>\n",
       "      <th>1462</th>\n",
       "      <td>biz dededen putin sporluyuz, damarımı kesseniz...</td>\n",
       "      <td>5</td>\n",
       "    </tr>\n",
       "    <tr>\n",
       "      <th>1468</th>\n",
       "      <td>inşallah bizim malum şahısı yatırıp güzel bire...</td>\n",
       "      <td>5</td>\n",
       "    </tr>\n",
       "    <tr>\n",
       "      <th>1469</th>\n",
       "      <td>türkiye'nin mevcut dış işleri bakanı şu an rus...</td>\n",
       "      <td>5</td>\n",
       "    </tr>\n",
       "    <tr>\n",
       "      <th>1470</th>\n",
       "      <td>1) bu adam dört yıldır üst üste dünyanın en gü...</td>\n",
       "      <td>5</td>\n",
       "    </tr>\n",
       "    <tr>\n",
       "      <th>1471</th>\n",
       "      <td>öncelikle(bkz:vladimir putin'i en çok benim se...</td>\n",
       "      <td>5</td>\n",
       "    </tr>\n",
       "    <tr>\n",
       "      <th>1481</th>\n",
       "      <td>adam kar yağarken çıplak halde ayıya biniyor. ...</td>\n",
       "      <td>5</td>\n",
       "    </tr>\n",
       "    <tr>\n",
       "      <th>1482</th>\n",
       "      <td>şu sözlüğün ekseriyetle cahil yazarlarının bir...</td>\n",
       "      <td>5</td>\n",
       "    </tr>\n",
       "    <tr>\n",
       "      <th>1483</th>\n",
       "      <td>bu adamda kesin olarak peygamber sabrı var.ülk...</td>\n",
       "      <td>5</td>\n",
       "    </tr>\n",
       "    <tr>\n",
       "      <th>1488</th>\n",
       "      <td>karizmanın vücut bulmuş hali</td>\n",
       "      <td>5</td>\n",
       "    </tr>\n",
       "    <tr>\n",
       "      <th>1489</th>\n",
       "      <td>kendisini ne kadar sevdiğimiz ile ilgili gerçe...</td>\n",
       "      <td>5</td>\n",
       "    </tr>\n",
       "    <tr>\n",
       "      <th>1490</th>\n",
       "      <td>yaşanan olaylara ne ani tepkiler verecek kadar...</td>\n",
       "      <td>5</td>\n",
       "    </tr>\n",
       "    <tr>\n",
       "      <th>1494</th>\n",
       "      <td>devlet adamlığının tam olarak göstergesi</td>\n",
       "      <td>5</td>\n",
       "    </tr>\n",
       "  </tbody>\n",
       "</table>\n",
       "<p>94 rows × 2 columns</p>\n",
       "</div>"
      ],
      "text/plain": [
       "                                                  yorum  puan\n",
       "19    geçtiğimiz on yılda, onun üçte biri seviyesind...     5\n",
       "23    karizmatik ve kararlı bir kişilik,ayrıca türk ...     5\n",
       "56    halefi olarak gosterilendmitri medvedevin devl...     5\n",
       "57    yilin adami secilmis olmasini gayet hakli buld...     5\n",
       "59    gerçekçi anlamda, tam bir devlet adamı olarak ...     5\n",
       "131   tarih boyu süregelmiş, büyük devletlerin dağıl...     5\n",
       "132   dunyadaki hicbir liderin yapamayacagi cikislar...     5\n",
       "161   eski yozgat milletvekili. inanılmaz yetenekli ...     5\n",
       "181   rahat adam.motorla tura çıkmış gözzüm benim.se...     5\n",
       "186   yapabileceklerinin siniri olmayan dahi..http:/...     5\n",
       "189   dosta guven dusmana korku sozunun vucut buldug...     5\n",
       "198   cok seksi bir adam olmasinin yanisira*cok basa...     5\n",
       "204                           dünyanın engüçlü insanı.      5\n",
       "221   büyük petro ve lenin'den sonra rusya'nın başın...     5\n",
       "235   hani yönetimini ve kendisini seven de eleştire...     5\n",
       "305   bu adam var ya, dünyanın açık ara en karizmati...     5\n",
       "313                       çıkarmış masaya vurmuş yine.      5\n",
       "322   buna basbakan ol demisler bu gitmis dunya lide...     5\n",
       "346   gerçek bir devlet başkanı. bizdeki tüm meslekt...     5\n",
       "359   karizmasıyla, laf sokuşuyla, siklemezliğiyle, ...     5\n",
       "379   (bkz:rusya teroristlerle anlaşmaz onları yok e...     5\n",
       "383                                   tam birwinner...      5\n",
       "412                                        (bkz:reyiz)      5\n",
       "427   dünya lideri olarak herkesin yırtık dondan çık...     5\n",
       "434   söylenenlere göre putin taşak olarak doğmuş, k...     5\n",
       "447   üniversitede \"en iyi yönetim biçimi başında iy...     5\n",
       "506   taşakları çok ağır olduğu için gemiye bindiril...     5\n",
       "554         forbes'e göre dünyanın en güçlü insanıdır.      5\n",
       "564   rusya topraklarina fazla, ultra-zeki lider. sa...     5\n",
       "618   umarım başına birşey gelmemiştir, henüz çok ge...     5\n",
       "...                                                 ...   ...\n",
       "1350     on parmağında on marifet olan dünya lideri.gif     5\n",
       "1357  brexit oylaması hakkında tek mantıklı açıklama...     5\n",
       "1360                          günümüzün en büyük lideri     5\n",
       "1362  bazıların çok sevdiği, bayıldığı 'dünya lideri...     5\n",
       "1368  bizimkiyle arasındaki temel farklardan birisi,...     5\n",
       "1370  \"bana bir tane abd kölesi olmayan islam ülkesi...     5\n",
       "1374                             çok zeki bir insandır.     5\n",
       "1375                            çok tekin bir insandır.     5\n",
       "1378  tek başınarusya’nın en büyük markasıdır.https:...     5\n",
       "1382  yav bak işte bu insan ata binmeyi bilir. hem d...     5\n",
       "1398  venezueladevleti tarafındanhugo chavezanısına ...     5\n",
       "1399  türkiye'nin tek ve gerçek dostu rusya'nın devl...     5\n",
       "1405  devlet adamıdır. sevin sevmeyin bu adamın gerç...     5\n",
       "1406  tam bir sosyopat. yahu adam bir sene yememiş i...     5\n",
       "1419  bütün dünyanın liderlik öğrenmesi gereken lide...     5\n",
       "1420  sarı adam1bildiğimiz sarı ruslardanince adam2k...     5\n",
       "1428  3 kulvarda abd'ye karşı savaş vermektedir. sur...     5\n",
       "1457  ilk defa istihbarat kökenli bir devlet başkanı...     5\n",
       "1462  biz dededen putin sporluyuz, damarımı kesseniz...     5\n",
       "1468  inşallah bizim malum şahısı yatırıp güzel bire...     5\n",
       "1469  türkiye'nin mevcut dış işleri bakanı şu an rus...     5\n",
       "1470  1) bu adam dört yıldır üst üste dünyanın en gü...     5\n",
       "1471  öncelikle(bkz:vladimir putin'i en çok benim se...     5\n",
       "1481  adam kar yağarken çıplak halde ayıya biniyor. ...     5\n",
       "1482  şu sözlüğün ekseriyetle cahil yazarlarının bir...     5\n",
       "1483  bu adamda kesin olarak peygamber sabrı var.ülk...     5\n",
       "1488                       karizmanın vücut bulmuş hali     5\n",
       "1489  kendisini ne kadar sevdiğimiz ile ilgili gerçe...     5\n",
       "1490  yaşanan olaylara ne ani tepkiler verecek kadar...     5\n",
       "1494           devlet adamlığının tam olarak göstergesi     5\n",
       "\n",
       "[94 rows x 2 columns]"
      ]
     },
     "execution_count": 1512,
     "metadata": {},
     "output_type": "execute_result"
    }
   ],
   "source": [
    "train[train.puan==5]"
   ]
  },
  {
   "cell_type": "code",
   "execution_count": 1513,
   "metadata": {},
   "outputs": [],
   "source": [
    "from collections import Counter\n",
    "\n",
    "most_vocab = Counter()\n",
    "for twit in train.yorum:\n",
    "    for word in twit.split(' '):\n",
    "        most_vocab[word] += 1"
   ]
  },
  {
   "cell_type": "code",
   "execution_count": 1514,
   "metadata": {},
   "outputs": [
    {
     "data": {
      "text/plain": [
       "[('bir', 1683),\n",
       " ('ve', 1206),\n",
       " ('', 1040),\n",
       " ('bu', 836),\n",
       " ('de', 570),\n",
       " ('da', 550),\n",
       " ('putin', 401),\n",
       " ('için', 325),\n",
       " ('rus', 322),\n",
       " ('rusya', 315),\n",
       " ('ile', 308),\n",
       " ('gibi', 301),\n",
       " ('olarak', 280),\n",
       " ('devlet', 275),\n",
       " ('ne', 274),\n",
       " ('daha', 265),\n",
       " ('olan', 259),\n",
       " ('çok', 252),\n",
       " ('ama', 252),\n",
       " ('kadar', 251)]"
      ]
     },
     "execution_count": 1514,
     "metadata": {},
     "output_type": "execute_result"
    }
   ],
   "source": [
    "most_vocab.most_common(20)"
   ]
  },
  {
   "cell_type": "code",
   "execution_count": 1515,
   "metadata": {},
   "outputs": [],
   "source": [
    "skelimeler=[]\n",
    "f = urllib.request.urlopen(\"https://raw.githubusercontent.com/r0sky/EksiSozlukSentiment/master/stopwordslerim.txt\")\n",
    "for x in f:\n",
    "    skelimeler.append(x[:-1])"
   ]
  },
  {
   "cell_type": "code",
   "execution_count": 1516,
   "metadata": {},
   "outputs": [
    {
     "data": {
      "text/plain": [
       "281"
      ]
     },
     "execution_count": 1516,
     "metadata": {},
     "output_type": "execute_result"
    }
   ],
   "source": [
    "len(skelimeler)"
   ]
  },
  {
   "cell_type": "code",
   "execution_count": 1517,
   "metadata": {},
   "outputs": [],
   "source": [
    "import re\n",
    "def preprocessing(text):\n",
    "    text = text.lower()\n",
    "    # get rid of non-alphanumerical characters\n",
    "    text=re.sub(r'http\\S+', '', text)\n",
    "\n",
    "    \n",
    "    text = re.sub(r'\\W', ' ', text) \n",
    "    # get rid of spaces\n",
    "    text = re.sub(r'\\s+', ' ', text) \n",
    "    # Correct mistakes \n",
    "    # and do the stemming\n",
    "    clean=[]\n",
    "    for word in text.split():\n",
    "        if  word not in skelimeler:\n",
    "            clean.append(word)\n",
    "    return \" \".join(clean) "
   ]
  },
  {
   "cell_type": "code",
   "execution_count": 1518,
   "metadata": {},
   "outputs": [],
   "source": [
    "corpus = []\n",
    "for i in range(len(train)):\n",
    "    corpus.append(preprocessing(train.iloc[i,0]))"
   ]
  },
  {
   "cell_type": "code",
   "execution_count": 1519,
   "metadata": {},
   "outputs": [],
   "source": [
    "from sklearn.feature_extraction.text import CountVectorizer\n",
    "vectorizer=CountVectorizer()\n",
    "X=vectorizer.fit_transform(corpus).toarray()\n",
    "y=train.iloc[: ,1].values"
   ]
  },
  {
   "cell_type": "code",
   "execution_count": 1520,
   "metadata": {},
   "outputs": [
    {
     "data": {
      "text/plain": [
       "'\\nfrom sklearn.feature_extraction.text import TfidfVectorizer\\nvectorizer = TfidfVectorizer(norm = None, smooth_idf=True)\\nvectorizer.fit(corpus)\\nX=vectorizer.fit_transform(corpus).toarray()\\ny=train.iloc[: ,1].values\\n'"
      ]
     },
     "execution_count": 1520,
     "metadata": {},
     "output_type": "execute_result"
    }
   ],
   "source": [
    "'''\n",
    "from sklearn.feature_extraction.text import TfidfVectorizer\n",
    "vectorizer = TfidfVectorizer(norm = None, smooth_idf=True)\n",
    "vectorizer.fit(corpus)\n",
    "X=vectorizer.fit_transform(corpus).toarray()\n",
    "y=train.iloc[: ,1].values\n",
    "'''"
   ]
  },
  {
   "cell_type": "code",
   "execution_count": 1521,
   "metadata": {},
   "outputs": [
    {
     "data": {
      "text/plain": [
       "'\\nfrom sklearn.feature_extraction.text import HashingVectorizer\\nvectorizer = HashingVectorizer(n_features=20)\\nvector = vectorizer.transform(corpus)\\nX=vector.toarray()\\ny=train.iloc[: ,1].values\\n'"
      ]
     },
     "execution_count": 1521,
     "metadata": {},
     "output_type": "execute_result"
    }
   ],
   "source": [
    "'''\n",
    "from sklearn.feature_extraction.text import HashingVectorizer\n",
    "vectorizer = HashingVectorizer(n_features=20)\n",
    "vector = vectorizer.transform(corpus)\n",
    "X=vector.toarray()\n",
    "y=train.iloc[: ,1].values\n",
    "'''"
   ]
  },
  {
   "cell_type": "code",
   "execution_count": 1522,
   "metadata": {},
   "outputs": [],
   "source": [
    "from sklearn.cross_validation import train_test_split\n",
    "X_train, X_test, y_train, y_test = train_test_split(X, y, test_size = 0.20, random_state = 0)"
   ]
  },
  {
   "cell_type": "code",
   "execution_count": 1523,
   "metadata": {},
   "outputs": [],
   "source": [
    "sentiment = {'super negative':1, 'negative':2, 'objective':3, 'positive':4, 'super positive':5}\n",
    "inv_sentiment = {v:k for k, v in sentiment.items()}"
   ]
  },
  {
   "cell_type": "code",
   "execution_count": 1524,
   "metadata": {},
   "outputs": [
    {
     "data": {
      "text/plain": [
       "23563"
      ]
     },
     "execution_count": 1524,
     "metadata": {},
     "output_type": "execute_result"
    }
   ],
   "source": [
    "len(vectorizer.vocabulary_)"
   ]
  },
  {
   "cell_type": "code",
   "execution_count": 1525,
   "metadata": {},
   "outputs": [
    {
     "data": {
      "text/plain": [
       "GaussianNB(priors=None)"
      ]
     },
     "execution_count": 1525,
     "metadata": {},
     "output_type": "execute_result"
    }
   ],
   "source": [
    "from sklearn.naive_bayes import GaussianNB\n",
    "classifier = GaussianNB()\n",
    "classifier.fit(X_train, y_train)\n"
   ]
  },
  {
   "cell_type": "code",
   "execution_count": 1526,
   "metadata": {},
   "outputs": [],
   "source": [
    "y_pred=classifier.predict(X_test)"
   ]
  },
  {
   "cell_type": "code",
   "execution_count": 1527,
   "metadata": {},
   "outputs": [
    {
     "data": {
      "text/plain": [
       "array([[  1,   2,  18,   5,   0],\n",
       "       [  2,   5,  26,   8,   2],\n",
       "       [  6,  12, 113,  15,  22],\n",
       "       [  5,   1,  25,   8,   3],\n",
       "       [  1,   2,  12,   3,   3]])"
      ]
     },
     "execution_count": 1527,
     "metadata": {},
     "output_type": "execute_result"
    }
   ],
   "source": [
    "from sklearn.metrics import confusion_matrix, accuracy_score\n",
    "cm = confusion_matrix(y_test, y_pred)\n",
    "cm"
   ]
  },
  {
   "cell_type": "code",
   "execution_count": 1528,
   "metadata": {},
   "outputs": [
    {
     "data": {
      "text/plain": [
       "0.43333333333333335"
      ]
     },
     "execution_count": 1528,
     "metadata": {},
     "output_type": "execute_result"
    }
   ],
   "source": [
    "accuracy_score(y_test, y_pred)"
   ]
  },
  {
   "cell_type": "code",
   "execution_count": 1529,
   "metadata": {},
   "outputs": [
    {
     "name": "stdout",
     "output_type": "stream",
     "text": [
      "biz ona rusya'nın lideri ol dedik o gitti ortadoğu'nun lideri oldu. helâl olsun reis. : positive\n",
      "belgeselde izlediğim kadarıyla kötü olmayan fakat çok da iyi bir yönetici olmayan rusya başkanıdır: objective\n",
      "gun gecmiyor ki birisini oldurtmesin...: super negative\n",
      "dünyaya meydan okuyacak kadar cesur, diktatör olma yolunda ilerleyecek kadar aptal ajan: objective\n",
      "adam gibi adam: super positive\n",
      "çok zeki bir adam: super positive\n",
      "cehennem seni çağırıyor rasputin: negative\n"
     ]
    }
   ],
   "source": [
    "raw_sample2=[\"biz ona rusya'nın lideri ol dedik o gitti ortadoğu'nun lideri oldu. helâl olsun reis. \",\"belgeselde izlediğim kadarıyla kötü olmayan fakat çok da iyi bir yönetici olmayan rusya başkanıdır\",\"gun gecmiyor ki birisini oldurtmesin...\",\"dünyaya meydan okuyacak kadar cesur, diktatör olma yolunda ilerleyecek kadar aptal ajan\",\"adam gibi adam\",\"çok zeki bir adam\",\"cehennem seni çağırıyor rasputin\"]\n",
    "test_sample = []\n",
    "\n",
    "for i in range(len(raw_sample2)):\n",
    "    test_sample.append(preprocessing(raw_sample2[i]))  \n",
    "\n",
    "sample = vectorizer.transform(test_sample).toarray()\n",
    "result = classifier.predict(sample)\n",
    "result\n",
    "\n",
    "for i in range(len(sample)):\n",
    "    print(raw_sample2[i]+': '+inv_sentiment[result[i]])"
   ]
  },
  {
   "cell_type": "code",
   "execution_count": null,
   "metadata": {},
   "outputs": [],
   "source": []
  }
 ],
 "metadata": {
  "kernelspec": {
   "display_name": "Python 3",
   "language": "python",
   "name": "python3"
  },
  "language_info": {
   "codemirror_mode": {
    "name": "ipython",
    "version": 3
   },
   "file_extension": ".py",
   "mimetype": "text/x-python",
   "name": "python",
   "nbconvert_exporter": "python",
   "pygments_lexer": "ipython3",
   "version": "3.6.5"
  }
 },
 "nbformat": 4,
 "nbformat_minor": 2
}
